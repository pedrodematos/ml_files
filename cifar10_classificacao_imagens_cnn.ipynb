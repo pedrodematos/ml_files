{
 "cells": [
  {
   "cell_type": "markdown",
   "metadata": {},
   "source": [
    "# Objetivo: Classificar as imagens do Dataset CIFAR10.\n",
    "\n",
    "Usaremos o dataset já incluído no tensorflow. Esse Dataset possui imagens coloridas."
   ]
  },
  {
   "cell_type": "code",
   "execution_count": 1,
   "metadata": {},
   "outputs": [],
   "source": [
    "import tensorflow as tf\n",
    "import numpy as np\n",
    "import matplotlib.pyplot as plt\n",
    "from tensorflow.keras.layers import Input, Conv2D, Dense, Flatten, Dropout\n",
    "from tensorflow.keras.layers import GlobalMaxPooling2D, MaxPooling2D, BatchNormalization\n",
    "from tensorflow.keras.models import Sequential\n",
    "\n",
    "from tensorflow.compat.v1 import ConfigProto\n",
    "from tensorflow.compat.v1 import InteractiveSession\n",
    "\n",
    "\n",
    "# Permite à GPU alocar mais memória para o tensorflow\n",
    "config = ConfigProto()\n",
    "config.gpu_options.allow_growth = True\n",
    "session = InteractiveSession(config=config)"
   ]
  },
  {
   "cell_type": "code",
   "execution_count": 2,
   "metadata": {},
   "outputs": [
    {
     "name": "stdout",
     "output_type": "stream",
     "text": [
      "Dimensão do meu X de treinamento: (50000, 32, 32, 3)\n",
      "Dimensão do meu Y de treinamento: (50000,)\n"
     ]
    }
   ],
   "source": [
    "# Importando os dados\n",
    "\n",
    "cifar10 = tf.keras.datasets.cifar10\n",
    "\n",
    "(x_train, y_train), (x_test, y_test) = cifar10.load_data()\n",
    "\n",
    "x_train, x_test = x_train/255.0, x_test/255.0 # Normalização\n",
    "y_train, y_test = y_train.flatten(), y_test.flatten() # O shape do Y está como (N, 1). Precisamos dele como (N,)\n",
    "\n",
    "print(\"Dimensão do meu X de treinamento:\", x_train.shape) # A diferença é que a dimensão de cores agora tem valor 3 \n",
    "                                                          # (rgb), pois não são mais imagens em preto e branco como \n",
    "                                                          # as imagens do MNIST dataset.\n",
    "print(\"Dimensão do meu Y de treinamento:\", y_train.shape)"
   ]
  },
  {
   "cell_type": "code",
   "execution_count": 3,
   "metadata": {},
   "outputs": [
    {
     "name": "stdout",
     "output_type": "stream",
     "text": [
      "Número de classes: 10\n"
     ]
    }
   ],
   "source": [
    "# Nümero de classes\n",
    "\n",
    "n_classes = len(set(y_train))\n",
    "print(\"Número de classes:\", n_classes)"
   ]
  },
  {
   "cell_type": "code",
   "execution_count": 4,
   "metadata": {},
   "outputs": [],
   "source": [
    "# Construindo a CNN (aplicando a técnica de Strided Convolutions)\n",
    "\n",
    "# Modelo Antigo\n",
    "\n",
    "# model = Sequential([\n",
    "#     Input(shape=x_train[0].shape),\n",
    "#     Conv2D(32, (3, 3), strides=2, activation='relu'),\n",
    "#     Conv2D(64, (3, 3), strides=2, activation='relu'),\n",
    "#     Conv2D(128, (3, 3), strides=2, activation='relu'),\n",
    "#     Flatten(),\n",
    "#     Dropout(0.5),\n",
    "#     Dense(1024, activation='relu'),\n",
    "#     Dropout(0.2),\n",
    "#     Dense(n_classes, activation='softmax')\n",
    "# ])\n",
    "\n",
    "\n",
    "# Novo modelo otimizado\n",
    "# Para imagens pequenas, MaxPooling funciona bem ao invés de StridedConvolutions.\n",
    "# Nesse modelo, temos múltiplas convolutions (2) antes do pooling.\n",
    "# Adicionamos também uma BatchNorm() após cada convolution.\n",
    "\n",
    "model = Sequential([\n",
    "    Input(shape=x_train[0].shape),\n",
    "    \n",
    "    Conv2D(32, (3, 3), activation='relu', padding='same'), # Tamanho dos filter maps após o padding: mesmo da img.\n",
    "    BatchNormalization(), # Normalizando os valores dos inputs da camada, calculando a norm. em batches dos dados.\n",
    "    \n",
    "    Conv2D(32, (3, 3), activation='relu', padding='same'), \n",
    "    BatchNormalization(), \n",
    "    MaxPooling2D((2, 2)), # Tamanho do filtro do Pooling, pegando apenas os valores máximos dos filter maps (MaxPooling).\n",
    "    \n",
    "    Conv2D(64, (3, 3), activation='relu', padding='same'),\n",
    "    BatchNormalization(),\n",
    "    \n",
    "    Conv2D(64, (3, 3), activation='relu', padding='same'),\n",
    "    BatchNormalization(),\n",
    "    MaxPooling2D((2, 2)),\n",
    "    \n",
    "    Conv2D(128, (3, 3), activation='relu', padding='same'),\n",
    "    BatchNormalization(),\n",
    "    \n",
    "    Conv2D(128, (3, 3), activation='relu', padding='same'),\n",
    "    BatchNormalization(),\n",
    "    MaxPooling2D((2, 2)),\n",
    "    \n",
    "    Flatten(),\n",
    "    Dropout(0.2),\n",
    "    Dense(1024, activation='relu'),\n",
    "    Dropout(0.2),\n",
    "    Dense(n_classes, activation='softmax')\n",
    "])"
   ]
  },
  {
   "cell_type": "code",
   "execution_count": 5,
   "metadata": {},
   "outputs": [],
   "source": [
    "# Compilando o modelo\n",
    "\n",
    "model.compile(optimizer='adam', loss='sparse_categorical_crossentropy', metrics=['accuracy'])"
   ]
  },
  {
   "cell_type": "code",
   "execution_count": 6,
   "metadata": {},
   "outputs": [
    {
     "name": "stdout",
     "output_type": "stream",
     "text": [
      "Epoch 1/10\n",
      "1563/1563 [==============================] - 77s 49ms/step - loss: 1.4418 - accuracy: 0.4980 - val_loss: 3.2339 - val_accuracy: 0.3034\n",
      "Epoch 2/10\n",
      "1563/1563 [==============================] - 73s 47ms/step - loss: 1.0028 - accuracy: 0.6486 - val_loss: 0.9977 - val_accuracy: 0.6768\n",
      "Epoch 3/10\n",
      "1563/1563 [==============================] - 76s 48ms/step - loss: 0.8547 - accuracy: 0.7073 - val_loss: 0.9622 - val_accuracy: 0.6972\n",
      "Epoch 4/10\n",
      "1563/1563 [==============================] - 75s 48ms/step - loss: 0.7620 - accuracy: 0.7398 - val_loss: 0.7420 - val_accuracy: 0.7521\n",
      "Epoch 5/10\n",
      "1563/1563 [==============================] - 73s 47ms/step - loss: 0.6960 - accuracy: 0.7620 - val_loss: 0.7306 - val_accuracy: 0.7584\n",
      "Epoch 6/10\n",
      "1563/1563 [==============================] - 78s 50ms/step - loss: 0.6429 - accuracy: 0.7798 - val_loss: 0.6501 - val_accuracy: 0.7893\n",
      "Epoch 7/10\n",
      "1563/1563 [==============================] - 73s 47ms/step - loss: 0.6023 - accuracy: 0.7941 - val_loss: 0.6445 - val_accuracy: 0.7825\n",
      "Epoch 8/10\n",
      "1563/1563 [==============================] - 73s 46ms/step - loss: 0.5603 - accuracy: 0.8095 - val_loss: 0.6794 - val_accuracy: 0.7782\n",
      "Epoch 9/10\n",
      "1563/1563 [==============================] - 75s 48ms/step - loss: 0.5283 - accuracy: 0.8193 - val_loss: 0.5533 - val_accuracy: 0.8143\n",
      "Epoch 10/10\n",
      "1563/1563 [==============================] - 74s 47ms/step - loss: 0.5001 - accuracy: 0.8288 - val_loss: 0.5899 - val_accuracy: 0.8068\n"
     ]
    }
   ],
   "source": [
    "# Treinando o modelo\n",
    "\n",
    "# Fit feito sem data augmentation\n",
    "# historico = model.fit(x_train, y_train, validation_data=(x_test, y_test), epochs=15)\n",
    "# Acurácia anterior: 77% na base de treino, 70% na base de teste\n",
    "\n",
    "\n",
    "# Fit feito com data augmentation\n",
    "\n",
    "batch_size = 32\n",
    "data_generator = tf.keras.preprocessing.image.ImageDataGenerator(width_shift_range=0.1,  # Muda a horizont. da imagem,\n",
    "                                                                 height_shift_range=0.1, # Muda a vertic. da imagem,\n",
    "                                                                 horizontal_flip=True)   # Inverte a imagem\n",
    "train_generator = data_generator.flow(x_train, y_train, batch_size)\n",
    "steps_per_epoch = x_train.shape[0] // batch_size\n",
    "\n",
    "historico = model.fit_generator(train_generator, validation_data=(x_test, y_test), epochs=10)"
   ]
  },
  {
   "cell_type": "code",
   "execution_count": 7,
   "metadata": {},
   "outputs": [
    {
     "data": {
      "text/plain": [
       "<matplotlib.legend.Legend at 0x17c9763eb08>"
      ]
     },
     "execution_count": 7,
     "metadata": {},
     "output_type": "execute_result"
    },
    {
     "data": {
      "image/png": "[encoded data removed]",
      "text/plain": [
       "<Figure size 432x288 with 1 Axes>"
      ]
     },
     "metadata": {
      "needs_background": "light"
     },
     "output_type": "display_data"
    }
   ],
   "source": [
    "# Plotando o valor da loss function por epoch\n",
    "\n",
    "plt.plot(historico.history['loss'], label='loss')\n",
    "plt.plot(historico.history['val_loss'], label='val_loss')\n",
    "plt.legend()"
   ]
  },
  {
   "cell_type": "code",
   "execution_count": 8,
   "metadata": {},
   "outputs": [
    {
     "data": {
      "text/plain": [
       "<matplotlib.legend.Legend at 0x17cb8e39f08>"
      ]
     },
     "execution_count": 8,
     "metadata": {},
     "output_type": "execute_result"
    },
    {
     "data": {
      "image/png": "[encoded data removed]",
      "text/plain": [
       "<Figure size 432x288 with 1 Axes>"
      ]
     },
     "metadata": {
      "needs_background": "light"
     },
     "output_type": "display_data"
    }
   ],
   "source": [
    "# Plotando o valor da acurácia por epoch\n",
    "\n",
    "plt.plot(historico.history['accuracy'], label='accuracy')\n",
    "plt.plot(historico.history['val_accuracy'], label='val_accuracy')\n",
    "plt.legend()"
   ]
  },
  {
   "cell_type": "code",
   "execution_count": 9,
   "metadata": {},
   "outputs": [
    {
     "name": "stdout",
     "output_type": "stream",
     "text": [
      "Matriz de Confusão, sem normalização\n",
      "[[895  15   9   7   2   1   1   6  58   6]\n",
      " [  7 958   0   0   0   0   2   1  13  19]\n",
      " [105  10 670  47  27  40  35  28  25  13]\n",
      " [ 35  15  30 679  27  85  36  42  31  20]\n",
      " [ 36   4  72  63 682  33  38  53  15   4]\n",
      " [ 17   7  26 142  18 708  16  45  18   3]\n",
      " [ 23   5  28  73   5  13 817   5  30   1]\n",
      " [ 20   4  10  22  26  24   4 880   7   3]\n",
      " [ 41  20   0   4   1   1   1   1 928   3]\n",
      " [ 24  95   1   2   0   0   0   1  26 851]]\n"
     ]
    },
    {
     "data": {
      "image/png": "[encoded data removed]",
      "text/plain": [
       "<Figure size 432x288 with 2 Axes>"
      ]
     },
     "metadata": {
      "needs_background": "light"
     },
     "output_type": "display_data"
    }
   ],
   "source": [
    "# Plotando a matriz de confusão desse modelo\n",
    "\n",
    "from sklearn.metrics import confusion_matrix\n",
    "import numpy as np\n",
    "import itertools\n",
    "\n",
    "def plot_confusion_matrix(cm, classes, normalize=False, title='Matriz de Confusão', cmap=plt.cm.Blues):\n",
    "    # Essa função printa e plota a matriz de confusão.\n",
    "    # A normalização pode ser aplicada setando 'normalize=True' nos parâmetros.\n",
    "    \n",
    "    if normalize:\n",
    "        cm = cm.astype('float')/cm.sum(axis=1)[:, np.newaxis]\n",
    "        print(\"Matriz de Confusão normalizada\")\n",
    "    else:\n",
    "        print(\"Matriz de Confusão, sem normalização\")\n",
    "    \n",
    "    print(cm)\n",
    "    \n",
    "    plt.imshow(cm, interpolation='nearest', cmap=cmap)\n",
    "    plt.title(title)\n",
    "    plt.colorbar()\n",
    "    tick_marks = np.arange(len(classes))\n",
    "    plt.xticks(tick_marks, classes, rotation=45)\n",
    "    plt.yticks(tick_marks, classes)\n",
    "    \n",
    "    fmt = '.2f' if normalize else 'd'\n",
    "    thresh = cm.max() / 2.\n",
    "    for i, j in itertools.product(range(cm.shape[0]), range(cm.shape[1])):\n",
    "        plt.text(j, i, format(cm[i, j], fmt),\n",
    "        horizontalalignment=\"center\",\n",
    "        color=\"white\" if cm[i, j] > thresh else \"black\")\n",
    "        \n",
    "    plt.tight_layout()\n",
    "    plt.ylabel('Label verdadeiro')\n",
    "    plt.xlabel('Output do modelo')\n",
    "    plt.show()\n",
    "    \n",
    "    \n",
    "# Testando\n",
    "\n",
    "pred_test = model.predict(x_test).argmax(axis=1)\n",
    "cm = confusion_matrix(y_test, pred_test)\n",
    "plot_confusion_matrix(cm, list(range(10)))\n",
    "\n",
    "\n",
    "# Maior acurácia no modelo antigo: Caminhões\n",
    "# Maior inacurácia no modelo antigo: Real - Gato, Prediction - Cachorro\n",
    "\n",
    "# Maior acurácia no modelo novo: Carro\n",
    "# Maior inacurácia no modelo novo: Real - Cachorro, Prediction - Gato"
   ]
  },
  {
   "cell_type": "code",
   "execution_count": 10,
   "metadata": {},
   "outputs": [],
   "source": [
    "# Mapeando os labels\n",
    "\n",
    "labels='''Aviao\n",
    "Carro\n",
    "Passaro\n",
    "Gato\n",
    "Veado\n",
    "Cachorro\n",
    "Sapo\n",
    "Cavalo\n",
    "Barco\n",
    "Caminhao'''.split()"
   ]
  },
  {
   "cell_type": "code",
   "execution_count": 11,
   "metadata": {},
   "outputs": [
    {
     "data": {
      "image/png": "[encoded data removed]",
      "text/plain": [
       "<Figure size 432x288 with 1 Axes>"
      ]
     },
     "metadata": {
      "needs_background": "light"
     },
     "output_type": "display_data"
    }
   ],
   "source": [
    "# Mostrando alguns exemplos errados\n",
    "\n",
    "misclassified_idx = np.where(pred_test != y_test)[0] # Retorna onde pred_test é diferente do y_test\n",
    "i = np.random.choice(misclassified_idx) # Seleciona um índice aleatoriamente\n",
    "plt.imshow(x_test[i], cmap='gray') # Plota a imagem no índice aleatório\n",
    "plt.title(\"Label verdadeiro: %s, o modelo previu: %s\" % (labels[y_test[i]], labels[pred_test[i]]));"
   ]
  },
  {
   "cell_type": "code",
   "execution_count": 12,
   "metadata": {},
   "outputs": [
    {
     "name": "stdout",
     "output_type": "stream",
     "text": [
      "Model: \"sequential\"\n",
      "_________________________________________________________________\n",
      "Layer (type)                 Output Shape              Param #   \n",
      "=================================================================\n",
      "conv2d (Conv2D)              (None, 32, 32, 32)        896       \n",
      "_________________________________________________________________\n",
      "batch_normalization (BatchNo (None, 32, 32, 32)        128       \n",
      "_________________________________________________________________\n",
      "conv2d_1 (Conv2D)            (None, 32, 32, 32)        9248      \n",
      "_________________________________________________________________\n",
      "batch_normalization_1 (Batch (None, 32, 32, 32)        128       \n",
      "_________________________________________________________________\n",
      "max_pooling2d (MaxPooling2D) (None, 16, 16, 32)        0         \n",
      "_________________________________________________________________\n",
      "conv2d_2 (Conv2D)            (None, 16, 16, 64)        18496     \n",
      "_________________________________________________________________\n",
      "batch_normalization_2 (Batch (None, 16, 16, 64)        256       \n",
      "_________________________________________________________________\n",
      "conv2d_3 (Conv2D)            (None, 16, 16, 64)        36928     \n",
      "_________________________________________________________________\n",
      "batch_normalization_3 (Batch (None, 16, 16, 64)        256       \n",
      "_________________________________________________________________\n",
      "max_pooling2d_1 (MaxPooling2 (None, 8, 8, 64)          0         \n",
      "_________________________________________________________________\n",
      "conv2d_4 (Conv2D)            (None, 8, 8, 128)         73856     \n",
      "_________________________________________________________________\n",
      "batch_normalization_4 (Batch (None, 8, 8, 128)         512       \n",
      "_________________________________________________________________\n",
      "conv2d_5 (Conv2D)            (None, 8, 8, 128)         147584    \n",
      "_________________________________________________________________\n",
      "batch_normalization_5 (Batch (None, 8, 8, 128)         512       \n",
      "_________________________________________________________________\n",
      "max_pooling2d_2 (MaxPooling2 (None, 4, 4, 128)         0         \n",
      "_________________________________________________________________\n",
      "flatten (Flatten)            (None, 2048)              0         \n",
      "_________________________________________________________________\n",
      "dropout (Dropout)            (None, 2048)              0         \n",
      "_________________________________________________________________\n",
      "dense (Dense)                (None, 1024)              2098176   \n",
      "_________________________________________________________________\n",
      "dropout_1 (Dropout)          (None, 1024)              0         \n",
      "_________________________________________________________________\n",
      "dense_1 (Dense)              (None, 10)                10250     \n",
      "=================================================================\n",
      "Total params: 2,397,226\n",
      "Trainable params: 2,396,330\n",
      "Non-trainable params: 896\n",
      "_________________________________________________________________\n"
     ]
    }
   ],
   "source": [
    "# Resumo da estrutura do modelo\n",
    "\n",
    "model.summary()"
   ]
  }
 ],
 "metadata": {
  "kernelspec": {
   "display_name": "gpu_enabled_env",
   "language": "python",
   "name": "gpu_enabled_env"
  },
  "language_info": {
   "codemirror_mode": {
    "name": "ipython",
    "version": 3
   },
   "file_extension": ".py",
   "mimetype": "text/x-python",
   "name": "python",
   "nbconvert_exporter": "python",
   "pygments_lexer": "ipython3",
   "version": "3.7.5"
  }
 },
 "nbformat": 4,
 "nbformat_minor": 2
}
